{
 "cells": [
  {
   "cell_type": "code",
   "execution_count": null,
   "id": "5df897f0",
   "metadata": {},
   "outputs": [],
   "source": [
    "import tweepy\n",
    "import pandas as pd\n",
    "import pickle"
   ]
  },
  {
   "cell_type": "code",
   "execution_count": null,
   "id": "e0b02482",
   "metadata": {},
   "outputs": [],
   "source": [
    "#Sus credenciales\n",
    "APP_KEY3=\"XXXXXXXXXXXXXXXXXXX\"\n",
    "APP_SECRET3=\"XXXXXXXXXXXXXXXXXXX\"\n",
    "OAUTH_TOKEN3=\"XXXXXXXXXXXXXXXXXXX\"\n",
    "OAUTH_TOKEN_SECRET3=\"XXXXXXXXXXXXXXXXXXX\""
   ]
  },
  {
   "cell_type": "code",
   "execution_count": null,
   "id": "d8b17261",
   "metadata": {},
   "outputs": [],
   "source": [
    "auth = tweepy.OAuthHandler(APP_KEY3, APP_SECRET3)\n",
    "auth.set_access_token(OAUTH_TOKEN3, OAUTH_TOKEN_SECRET3)\n",
    "api3 = tweepy.API(auth,wait_on_rate_limit=True,wait_on_rate_limit_notify=True)"
   ]
  },
  {
   "cell_type": "code",
   "execution_count": null,
   "id": "36eb853e",
   "metadata": {},
   "outputs": [],
   "source": [
    "f=\"./20220131_candidatos-congreso_18012022.xlsx\"\n",
    "datos= pd.read_excel(f)"
   ]
  },
  {
   "cell_type": "code",
   "execution_count": null,
   "id": "12013a9f",
   "metadata": {},
   "outputs": [],
   "source": [
    "#acá deben usar la columna de los usuarios que no existe aún. También si tiene cosas extra como los / deberían quitarlos\n",
    "lista=list(datos[\"username\"])\n",
    "lista[0]"
   ]
  },
  {
   "cell_type": "code",
   "execution_count": null,
   "id": "62b21d5f",
   "metadata": {},
   "outputs": [],
   "source": [
    "followers={}\n",
    "exceptions={}\n",
    "x=0\n",
    "\n",
    "for i in lista:\n",
    "    \n",
    "    # esta condición les muestra cada vez qu pasan 10 usuarios, la pongo porque es demorado a veces y uno no sabe cuánto falta\n",
    "    if x%10==0:\n",
    "        print(x)\n",
    "        \n",
    "        \n",
    "        \n",
    "        \n",
    "        \n",
    "    try:\n",
    "        # este código les saca todos los SEGUIDORES de cada cuenta \n",
    "        pages=[]\n",
    "        for page in tweepy.Cursor(api3.followers_ids, i ).pages():\n",
    "            pages.extend(page)\n",
    "        dicc={i:pages}\n",
    "        followers.update(dicc)\n",
    "        \n",
    "        #esto se los va a guardar donde tengan el archivo con el nombre del político, ej. (alvarouribevel_followers.pkl)\n",
    "        \n",
    "        nombre= \"./\"+ str(i) +\"_followers.pkl\"\n",
    "        \n",
    "        file = open(nombre,\"wb\")\n",
    "        \n",
    "        pickle.dump(dicc,file)\n",
    "\n",
    "        file.close()\n",
    "        \n",
    "        \n",
    "    # si les vota algún error, les guarda en el diccionario exceptions los usuarios que no se lograron coger y por qué.    \n",
    "    except Exception as e:\n",
    "        print(e,x)\n",
    "        exc={i:[e,x]}\n",
    "        exceptions.update(exc)\n",
    "        next\n",
    "    x+=1\n"
   ]
  },
  {
   "cell_type": "code",
   "execution_count": null,
   "id": "44f35250",
   "metadata": {},
   "outputs": [],
   "source": [
    "## si quieren guardar un archivo con todo lo que sacaron de followers (aunque ya están en archivos aparte)\n",
    "\n",
    "f = open(\"./followers_congresistas.pkl\",\"wb\")\n",
    "pickle.dump(followers,f)\n",
    "f.close()\n",
    "\n",
    "#para guardar los errores\n",
    "f = open(\"./errores_descarga.pkl\",\"wb\")\n",
    "pickle.dump(exceptions,f)\n",
    "f.close()"
   ]
  }
 ],
 "metadata": {
  "kernelspec": {
   "display_name": "Python 3",
   "language": "python",
   "name": "python3"
  },
  "language_info": {
   "codemirror_mode": {
    "name": "ipython",
    "version": 3
   },
   "file_extension": ".py",
   "mimetype": "text/x-python",
   "name": "python",
   "nbconvert_exporter": "python",
   "pygments_lexer": "ipython3",
   "version": "3.8.8"
  }
 },
 "nbformat": 4,
 "nbformat_minor": 5
}
